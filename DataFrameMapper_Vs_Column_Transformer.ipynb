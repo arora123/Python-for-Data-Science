{
  "nbformat": 4,
  "nbformat_minor": 0,
  "metadata": {
    "colab": {
      "name": "DataFrameMapper Vs Column Transformer.ipynb",
      "provenance": [],
      "collapsed_sections": [],
      "authorship_tag": "ABX9TyM7Me74IX1ZU01vsmf+m6DC",
      "include_colab_link": true
    },
    "kernelspec": {
      "name": "python3",
      "display_name": "Python 3"
    }
  },
  "cells": [
    {
      "cell_type": "markdown",
      "metadata": {
        "id": "view-in-github",
        "colab_type": "text"
      },
      "source": [
        "<a href=\"https://colab.research.google.com/github/arora123/Python-for-Data-Science/blob/master/DataFrameMapper_Vs_Column_Transformer.ipynb\" target=\"_parent\"><img src=\"https://colab.research.google.com/assets/colab-badge.svg\" alt=\"Open In Colab\"/></a>"
      ]
    },
    {
      "cell_type": "markdown",
      "metadata": {
        "id": "Vc42e1vxJ523",
        "colab_type": "text"
      },
      "source": [
        "https://github.com/scikit-learn-contrib/sklearn-pandas/issues/173#issuecomment-689606176\n",
        "\n",
        "DataFrameMapper() from sklearn_pandas and ColumnTransformer from sklearn.compose\n",
        "\n",
        "both helps to apply different transformations [imputers, scalars, encoders, polynomial terms, etc.] on different columns"
      ]
    },
    {
      "cell_type": "markdown",
      "metadata": {
        "id": "mNO9aX2fMItU",
        "colab_type": "text"
      },
      "source": [
        "#Importing libraries and Getting Data"
      ]
    },
    {
      "cell_type": "code",
      "metadata": {
        "id": "p_RizlNAMBLh",
        "colab_type": "code",
        "colab": {}
      },
      "source": [
        "import pandas as pd\n",
        "\n",
        "#For Polynomial Features\n",
        "from sklearn.preprocessing import PolynomialFeatures\n",
        "\n",
        "#DataMapper for applying transformations on selected columns\n",
        "from sklearn_pandas import DataFrameMapper\n",
        "\n",
        "#ColumnTransformer for applying transformations on selected columns\n",
        "from sklearn.compose import ColumnTransformer\n",
        "from sklearn.compose import make_column_selector as selector \n",
        "from sklearn.pipeline import Pipeline # for pielines\n",
        "\n",
        "# Loading Data\n",
        "housing = pd.read_csv('https://raw.githubusercontent.com/arora123/Data/master/housing.csv')\n",
        "\n",
        "# Creating interaction term [optional]\n",
        "housing['houseAge_income'] = housing['housing_median_age']*housing['median_income']"
      ],
      "execution_count": 9,
      "outputs": []
    },
    {
      "cell_type": "code",
      "metadata": {
        "id": "J8bGypZQJ03R",
        "colab_type": "code",
        "colab": {
          "base_uri": "https://localhost:8080/",
          "height": 194
        },
        "outputId": "61ce2ee2-bb64-45a5-b532-0d4d3c749685"
      },
      "source": [
        "degree = 2\n",
        "\n",
        "mapper = DataFrameMapper([\n",
        "(['houseAge_income'], PolynomialFeatures(degree=degree, include_bias=False)),\n",
        "(['median_income'], PolynomialFeatures(degree=degree, include_bias=False)),\n",
        "])\n",
        "\n",
        "poly_feature = mapper.fit_transform(housing)\n",
        "\n",
        "# print(poly_feature)\n",
        "# print(mapper.transformed_names_)\n",
        "\n",
        "poly_dm = pd.DataFrame(poly_feature, columns=mapper.transformed_names_)\n",
        "poly_dm.head()"
      ],
      "execution_count": 5,
      "outputs": [
        {
          "output_type": "execute_result",
          "data": {
            "text/html": [
              "<div>\n",
              "<style scoped>\n",
              "    .dataframe tbody tr th:only-of-type {\n",
              "        vertical-align: middle;\n",
              "    }\n",
              "\n",
              "    .dataframe tbody tr th {\n",
              "        vertical-align: top;\n",
              "    }\n",
              "\n",
              "    .dataframe thead th {\n",
              "        text-align: right;\n",
              "    }\n",
              "</style>\n",
              "<table border=\"1\" class=\"dataframe\">\n",
              "  <thead>\n",
              "    <tr style=\"text-align: right;\">\n",
              "      <th></th>\n",
              "      <th>houseAge_income_x0</th>\n",
              "      <th>houseAge_income_x0^2</th>\n",
              "      <th>median_income_x0</th>\n",
              "      <th>median_income_x0^2</th>\n",
              "    </tr>\n",
              "  </thead>\n",
              "  <tbody>\n",
              "    <tr>\n",
              "      <th>0</th>\n",
              "      <td>341.3332</td>\n",
              "      <td>116508.353422</td>\n",
              "      <td>8.3252</td>\n",
              "      <td>69.308955</td>\n",
              "    </tr>\n",
              "    <tr>\n",
              "      <th>1</th>\n",
              "      <td>174.3294</td>\n",
              "      <td>30390.739704</td>\n",
              "      <td>8.3014</td>\n",
              "      <td>68.913242</td>\n",
              "    </tr>\n",
              "    <tr>\n",
              "      <th>2</th>\n",
              "      <td>377.3848</td>\n",
              "      <td>142419.287271</td>\n",
              "      <td>7.2574</td>\n",
              "      <td>52.669855</td>\n",
              "    </tr>\n",
              "    <tr>\n",
              "      <th>3</th>\n",
              "      <td>293.4412</td>\n",
              "      <td>86107.737857</td>\n",
              "      <td>5.6431</td>\n",
              "      <td>31.844578</td>\n",
              "    </tr>\n",
              "    <tr>\n",
              "      <th>4</th>\n",
              "      <td>200.0024</td>\n",
              "      <td>40000.960006</td>\n",
              "      <td>3.8462</td>\n",
              "      <td>14.793254</td>\n",
              "    </tr>\n",
              "  </tbody>\n",
              "</table>\n",
              "</div>"
            ],
            "text/plain": [
              "   houseAge_income_x0  ...  median_income_x0^2\n",
              "0            341.3332  ...           69.308955\n",
              "1            174.3294  ...           68.913242\n",
              "2            377.3848  ...           52.669855\n",
              "3            293.4412  ...           31.844578\n",
              "4            200.0024  ...           14.793254\n",
              "\n",
              "[5 rows x 4 columns]"
            ]
          },
          "metadata": {
            "tags": []
          },
          "execution_count": 5
        }
      ]
    },
    {
      "cell_type": "code",
      "metadata": {
        "id": "Gq1-DVqPKi9t",
        "colab_type": "code",
        "colab": {
          "base_uri": "https://localhost:8080/",
          "height": 194
        },
        "outputId": "9b5caefb-7583-494e-ff46-2d1ca77c8072"
      },
      "source": [
        "housing[['houseAge_income', 'median_income']].head()"
      ],
      "execution_count": 6,
      "outputs": [
        {
          "output_type": "execute_result",
          "data": {
            "text/html": [
              "<div>\n",
              "<style scoped>\n",
              "    .dataframe tbody tr th:only-of-type {\n",
              "        vertical-align: middle;\n",
              "    }\n",
              "\n",
              "    .dataframe tbody tr th {\n",
              "        vertical-align: top;\n",
              "    }\n",
              "\n",
              "    .dataframe thead th {\n",
              "        text-align: right;\n",
              "    }\n",
              "</style>\n",
              "<table border=\"1\" class=\"dataframe\">\n",
              "  <thead>\n",
              "    <tr style=\"text-align: right;\">\n",
              "      <th></th>\n",
              "      <th>houseAge_income</th>\n",
              "      <th>median_income</th>\n",
              "    </tr>\n",
              "  </thead>\n",
              "  <tbody>\n",
              "    <tr>\n",
              "      <th>0</th>\n",
              "      <td>341.3332</td>\n",
              "      <td>8.3252</td>\n",
              "    </tr>\n",
              "    <tr>\n",
              "      <th>1</th>\n",
              "      <td>174.3294</td>\n",
              "      <td>8.3014</td>\n",
              "    </tr>\n",
              "    <tr>\n",
              "      <th>2</th>\n",
              "      <td>377.3848</td>\n",
              "      <td>7.2574</td>\n",
              "    </tr>\n",
              "    <tr>\n",
              "      <th>3</th>\n",
              "      <td>293.4412</td>\n",
              "      <td>5.6431</td>\n",
              "    </tr>\n",
              "    <tr>\n",
              "      <th>4</th>\n",
              "      <td>200.0024</td>\n",
              "      <td>3.8462</td>\n",
              "    </tr>\n",
              "  </tbody>\n",
              "</table>\n",
              "</div>"
            ],
            "text/plain": [
              "   houseAge_income  median_income\n",
              "0         341.3332         8.3252\n",
              "1         174.3294         8.3014\n",
              "2         377.3848         7.2574\n",
              "3         293.4412         5.6431\n",
              "4         200.0024         3.8462"
            ]
          },
          "metadata": {
            "tags": []
          },
          "execution_count": 6
        }
      ]
    },
    {
      "cell_type": "code",
      "metadata": {
        "id": "4gRibMZkLJmr",
        "colab_type": "code",
        "colab": {
          "base_uri": "https://localhost:8080/",
          "height": 282
        },
        "outputId": "ee74b2c1-4c58-442c-f273-64e24049716b"
      },
      "source": [
        "poly_dm.describe()"
      ],
      "execution_count": 7,
      "outputs": [
        {
          "output_type": "execute_result",
          "data": {
            "text/html": [
              "<div>\n",
              "<style scoped>\n",
              "    .dataframe tbody tr th:only-of-type {\n",
              "        vertical-align: middle;\n",
              "    }\n",
              "\n",
              "    .dataframe tbody tr th {\n",
              "        vertical-align: top;\n",
              "    }\n",
              "\n",
              "    .dataframe thead th {\n",
              "        text-align: right;\n",
              "    }\n",
              "</style>\n",
              "<table border=\"1\" class=\"dataframe\">\n",
              "  <thead>\n",
              "    <tr style=\"text-align: right;\">\n",
              "      <th></th>\n",
              "      <th>houseAge_income_x0</th>\n",
              "      <th>houseAge_income_x0^2</th>\n",
              "      <th>median_income_x0</th>\n",
              "      <th>median_income_x0^2</th>\n",
              "    </tr>\n",
              "  </thead>\n",
              "  <tbody>\n",
              "    <tr>\n",
              "      <th>count</th>\n",
              "      <td>20640.000000</td>\n",
              "      <td>20640.000000</td>\n",
              "      <td>20640.000000</td>\n",
              "      <td>20640.000000</td>\n",
              "    </tr>\n",
              "    <tr>\n",
              "      <th>mean</th>\n",
              "      <td>108.008027</td>\n",
              "      <td>17198.805116</td>\n",
              "      <td>3.870671</td>\n",
              "      <td>18.591242</td>\n",
              "    </tr>\n",
              "    <tr>\n",
              "      <th>std</th>\n",
              "      <td>74.386418</td>\n",
              "      <td>33467.667120</td>\n",
              "      <td>1.899822</td>\n",
              "      <td>21.946544</td>\n",
              "    </tr>\n",
              "    <tr>\n",
              "      <th>min</th>\n",
              "      <td>1.625000</td>\n",
              "      <td>2.640625</td>\n",
              "      <td>0.499900</td>\n",
              "      <td>0.249900</td>\n",
              "    </tr>\n",
              "    <tr>\n",
              "      <th>25%</th>\n",
              "      <td>57.997425</td>\n",
              "      <td>3363.701325</td>\n",
              "      <td>2.563400</td>\n",
              "      <td>6.571020</td>\n",
              "    </tr>\n",
              "    <tr>\n",
              "      <th>50%</th>\n",
              "      <td>92.502950</td>\n",
              "      <td>8556.795767</td>\n",
              "      <td>3.534800</td>\n",
              "      <td>12.494811</td>\n",
              "    </tr>\n",
              "    <tr>\n",
              "      <th>75%</th>\n",
              "      <td>140.104900</td>\n",
              "      <td>19629.383139</td>\n",
              "      <td>4.743250</td>\n",
              "      <td>22.498421</td>\n",
              "    </tr>\n",
              "    <tr>\n",
              "      <th>max</th>\n",
              "      <td>780.005200</td>\n",
              "      <td>608408.112027</td>\n",
              "      <td>15.000100</td>\n",
              "      <td>225.003000</td>\n",
              "    </tr>\n",
              "  </tbody>\n",
              "</table>\n",
              "</div>"
            ],
            "text/plain": [
              "       houseAge_income_x0  ...  median_income_x0^2\n",
              "count        20640.000000  ...        20640.000000\n",
              "mean           108.008027  ...           18.591242\n",
              "std             74.386418  ...           21.946544\n",
              "min              1.625000  ...            0.249900\n",
              "25%             57.997425  ...            6.571020\n",
              "50%             92.502950  ...           12.494811\n",
              "75%            140.104900  ...           22.498421\n",
              "max            780.005200  ...          225.003000\n",
              "\n",
              "[8 rows x 4 columns]"
            ]
          },
          "metadata": {
            "tags": []
          },
          "execution_count": 7
        }
      ]
    },
    {
      "cell_type": "code",
      "metadata": {
        "id": "fh-ObJqtLV1C",
        "colab_type": "code",
        "colab": {
          "base_uri": "https://localhost:8080/",
          "height": 282
        },
        "outputId": "9c604057-23ff-4b62-855c-fa1eba60533d"
      },
      "source": [
        "housing[['houseAge_income', 'median_income']].describe()"
      ],
      "execution_count": 8,
      "outputs": [
        {
          "output_type": "execute_result",
          "data": {
            "text/html": [
              "<div>\n",
              "<style scoped>\n",
              "    .dataframe tbody tr th:only-of-type {\n",
              "        vertical-align: middle;\n",
              "    }\n",
              "\n",
              "    .dataframe tbody tr th {\n",
              "        vertical-align: top;\n",
              "    }\n",
              "\n",
              "    .dataframe thead th {\n",
              "        text-align: right;\n",
              "    }\n",
              "</style>\n",
              "<table border=\"1\" class=\"dataframe\">\n",
              "  <thead>\n",
              "    <tr style=\"text-align: right;\">\n",
              "      <th></th>\n",
              "      <th>houseAge_income</th>\n",
              "      <th>median_income</th>\n",
              "    </tr>\n",
              "  </thead>\n",
              "  <tbody>\n",
              "    <tr>\n",
              "      <th>count</th>\n",
              "      <td>20640.000000</td>\n",
              "      <td>20640.000000</td>\n",
              "    </tr>\n",
              "    <tr>\n",
              "      <th>mean</th>\n",
              "      <td>108.008027</td>\n",
              "      <td>3.870671</td>\n",
              "    </tr>\n",
              "    <tr>\n",
              "      <th>std</th>\n",
              "      <td>74.386418</td>\n",
              "      <td>1.899822</td>\n",
              "    </tr>\n",
              "    <tr>\n",
              "      <th>min</th>\n",
              "      <td>1.625000</td>\n",
              "      <td>0.499900</td>\n",
              "    </tr>\n",
              "    <tr>\n",
              "      <th>25%</th>\n",
              "      <td>57.997425</td>\n",
              "      <td>2.563400</td>\n",
              "    </tr>\n",
              "    <tr>\n",
              "      <th>50%</th>\n",
              "      <td>92.502950</td>\n",
              "      <td>3.534800</td>\n",
              "    </tr>\n",
              "    <tr>\n",
              "      <th>75%</th>\n",
              "      <td>140.104900</td>\n",
              "      <td>4.743250</td>\n",
              "    </tr>\n",
              "    <tr>\n",
              "      <th>max</th>\n",
              "      <td>780.005200</td>\n",
              "      <td>15.000100</td>\n",
              "    </tr>\n",
              "  </tbody>\n",
              "</table>\n",
              "</div>"
            ],
            "text/plain": [
              "       houseAge_income  median_income\n",
              "count     20640.000000   20640.000000\n",
              "mean        108.008027       3.870671\n",
              "std          74.386418       1.899822\n",
              "min           1.625000       0.499900\n",
              "25%          57.997425       2.563400\n",
              "50%          92.502950       3.534800\n",
              "75%         140.104900       4.743250\n",
              "max         780.005200      15.000100"
            ]
          },
          "metadata": {
            "tags": []
          },
          "execution_count": 8
        }
      ]
    },
    {
      "cell_type": "code",
      "metadata": {
        "id": "yOXd7ZgHLZCj",
        "colab_type": "code",
        "colab": {}
      },
      "source": [
        "Poly_features = ['houseAge_income', 'median_income']\n",
        "\n",
        "poly_transformer = Pipeline(steps=[\n",
        "    ('poly features', PolynomialFeatures(degree, include_bias=False)),\n",
        "    # ('poly features', PolynomialFeatures(degree, include_bias=False, interaction_only=True))\n",
        "    ])\n",
        "\n",
        "pipe1 = ColumnTransformer(transformers=[\n",
        "    ('poly', poly_transformer, Poly_features)])"
      ],
      "execution_count": 28,
      "outputs": []
    },
    {
      "cell_type": "code",
      "metadata": {
        "id": "N6n__CmvNg5c",
        "colab_type": "code",
        "colab": {}
      },
      "source": [
        "poly_ct = pd.DataFrame(pipe1.fit_transform(housing))"
      ],
      "execution_count": 29,
      "outputs": []
    },
    {
      "cell_type": "code",
      "metadata": {
        "id": "Z5aVI0vrN9d8",
        "colab_type": "code",
        "colab": {
          "base_uri": "https://localhost:8080/",
          "height": 194
        },
        "outputId": "122fd183-4f91-4cd5-ebb7-73f9b85b8c3e"
      },
      "source": [
        "poly_ct.head() # Columns for 'houseAge_income', 'median_income', 'houseAge_income^2', 'median_income^2' and 'houseAge_income'*'median_income'\n",
        "\n",
        "# If we use interaction_only=True inside PolynomialFeatures(), we will get 'houseAge_income', 'median_income' and 'houseAge_income'*'median_income' columns\n"
      ],
      "execution_count": 30,
      "outputs": [
        {
          "output_type": "execute_result",
          "data": {
            "text/html": [
              "<div>\n",
              "<style scoped>\n",
              "    .dataframe tbody tr th:only-of-type {\n",
              "        vertical-align: middle;\n",
              "    }\n",
              "\n",
              "    .dataframe tbody tr th {\n",
              "        vertical-align: top;\n",
              "    }\n",
              "\n",
              "    .dataframe thead th {\n",
              "        text-align: right;\n",
              "    }\n",
              "</style>\n",
              "<table border=\"1\" class=\"dataframe\">\n",
              "  <thead>\n",
              "    <tr style=\"text-align: right;\">\n",
              "      <th></th>\n",
              "      <th>0</th>\n",
              "      <th>1</th>\n",
              "      <th>2</th>\n",
              "      <th>3</th>\n",
              "      <th>4</th>\n",
              "    </tr>\n",
              "  </thead>\n",
              "  <tbody>\n",
              "    <tr>\n",
              "      <th>0</th>\n",
              "      <td>341.3332</td>\n",
              "      <td>8.3252</td>\n",
              "      <td>116508.353422</td>\n",
              "      <td>2841.667157</td>\n",
              "      <td>69.308955</td>\n",
              "    </tr>\n",
              "    <tr>\n",
              "      <th>1</th>\n",
              "      <td>174.3294</td>\n",
              "      <td>8.3014</td>\n",
              "      <td>30390.739704</td>\n",
              "      <td>1447.178081</td>\n",
              "      <td>68.913242</td>\n",
              "    </tr>\n",
              "    <tr>\n",
              "      <th>2</th>\n",
              "      <td>377.3848</td>\n",
              "      <td>7.2574</td>\n",
              "      <td>142419.287271</td>\n",
              "      <td>2738.832448</td>\n",
              "      <td>52.669855</td>\n",
              "    </tr>\n",
              "    <tr>\n",
              "      <th>3</th>\n",
              "      <td>293.4412</td>\n",
              "      <td>5.6431</td>\n",
              "      <td>86107.737857</td>\n",
              "      <td>1655.918036</td>\n",
              "      <td>31.844578</td>\n",
              "    </tr>\n",
              "    <tr>\n",
              "      <th>4</th>\n",
              "      <td>200.0024</td>\n",
              "      <td>3.8462</td>\n",
              "      <td>40000.960006</td>\n",
              "      <td>769.249231</td>\n",
              "      <td>14.793254</td>\n",
              "    </tr>\n",
              "  </tbody>\n",
              "</table>\n",
              "</div>"
            ],
            "text/plain": [
              "          0       1              2            3          4\n",
              "0  341.3332  8.3252  116508.353422  2841.667157  69.308955\n",
              "1  174.3294  8.3014   30390.739704  1447.178081  68.913242\n",
              "2  377.3848  7.2574  142419.287271  2738.832448  52.669855\n",
              "3  293.4412  5.6431   86107.737857  1655.918036  31.844578\n",
              "4  200.0024  3.8462   40000.960006   769.249231  14.793254"
            ]
          },
          "metadata": {
            "tags": []
          },
          "execution_count": 30
        }
      ]
    },
    {
      "cell_type": "code",
      "metadata": {
        "id": "J9kPGjGfOAA1",
        "colab_type": "code",
        "colab": {
          "base_uri": "https://localhost:8080/",
          "height": 230
        },
        "outputId": "b7794d92-2c06-4622-e44a-9ac1770e5315"
      },
      "source": [
        "pipe1.get_feature_names"
      ],
      "execution_count": 21,
      "outputs": [
        {
          "output_type": "execute_result",
          "data": {
            "text/plain": [
              "<bound method ColumnTransformer.get_feature_names of ColumnTransformer(n_jobs=None, remainder='drop', sparse_threshold=0.3,\n",
              "                  transformer_weights=None,\n",
              "                  transformers=[('poly',\n",
              "                                 Pipeline(memory=None,\n",
              "                                          steps=[('poly features',\n",
              "                                                  PolynomialFeatures(degree=2,\n",
              "                                                                     include_bias=True,\n",
              "                                                                     interaction_only=False,\n",
              "                                                                     order='C'))],\n",
              "                                          verbose=False),\n",
              "                                 ['houseAge_income', 'median_income'])],\n",
              "                  verbose=False)>"
            ]
          },
          "metadata": {
            "tags": []
          },
          "execution_count": 21
        }
      ]
    }
  ]
}