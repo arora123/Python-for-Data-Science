{
 "cells": [
  {
   "cell_type": "markdown",
   "metadata": {
    "deletable": true,
    "editable": true
   },
   "source": [
    "# Getting Started with Dask\n",
    "\n",
    "Dask Data Frame \n",
    "\n"
   ]
  },
  {
   "cell_type": "code",
   "execution_count": 1,
   "metadata": {
    "collapsed": false,
    "deletable": true,
    "editable": true
   },
   "outputs": [
    {
     "data": {
      "text/plain": [
       "'D:\\\\Learning\\\\Learn Python git hub'"
      ]
     },
     "execution_count": 1,
     "metadata": {},
     "output_type": "execute_result"
    }
   ],
   "source": [
    "# Setting working directory\n",
    "import os\n",
    "os.getcwd()\n",
    "os.chdir('D:\\Learning\\Learn Python git hub')\n",
    "os.getcwd()\n"
   ]
  },
  {
   "cell_type": "code",
   "execution_count": null,
   "metadata": {
    "collapsed": true,
    "deletable": true,
    "editable": true
   },
   "outputs": [],
   "source": [
    "import pandas as pd\n",
    "data_pandas = pd.read_csv(\"benign_traffic.csv\")\n",
    "data_pandas.shape"
   ]
  },
  {
   "cell_type": "code",
   "execution_count": 2,
   "metadata": {
    "collapsed": true,
    "deletable": true,
    "editable": true
   },
   "outputs": [
    {
     "name": "stderr",
     "output_type": "stream",
     "text": [
      "D:\\Anaconda3\\lib\\site-packages\\dask\\dataframe\\utils.py:15: FutureWarning: pandas.util.testing is deprecated. Use the functions in the public API at pandas.testing instead.\n",
      "  import pandas.util.testing as tm\n"
     ]
    },
    {
     "name": "stdout",
     "output_type": "stream",
     "text": [
      "Data Size is:  (49548, 115)\n",
      "Time taken by pandas to read the file :  571.27\n"
     ]
    }
   ],
   "source": [
    "# Using dask for a data set with 49548 rows\n",
    "\n",
    "import pandas as pd\n",
    "import dask.dataframe as dd\n",
    "import time\n",
    "\n",
    "# Reading with pandas\n",
    "t0 = time.time()\n",
    "\n",
    "data_pandas = pd.read_csv(\"benign_traffic.csv\")\n",
    "t1 = time.time()\n",
    "\n",
    "time_pandas = round((t1-t0)*1000, 2)\n",
    "\n",
    "print('Data Size is: ', data_pandas.shape)\n",
    "print('Time taken by pandas to read the file : ', time_pandas)"
   ]
  },
  {
   "cell_type": "code",
   "execution_count": 3,
   "metadata": {
    "collapsed": true,
    "deletable": true,
    "editable": true
   },
   "outputs": [
    {
     "name": "stdout",
     "output_type": "stream",
     "text": [
      "Time taken by dask to read the file :  23.01\n"
     ]
    }
   ],
   "source": [
    "# Reading with Dask\n",
    "t2 = time.time()\n",
    "\n",
    "data_dask = dd.read_csv(\"benign_traffic.csv\")\n",
    "t3 = time.time()\n",
    "\n",
    "time_dask = round((t3-t2)*1000, 2)\n",
    "\n",
    "print('Time taken by dask to read the file : ', time_dask)\n"
   ]
  },
  {
   "cell_type": "code",
   "execution_count": 13,
   "metadata": {
    "collapsed": false,
    "deletable": true,
    "editable": true
   },
   "outputs": [
    {
     "data": {
      "text/plain": [
       "2.256231431164951"
      ]
     },
     "execution_count": 13,
     "metadata": {},
     "output_type": "execute_result"
    }
   ],
   "source": [
    "data_dask['MI_dir_L5_weight'].mean().compute()"
   ]
  },
  {
   "cell_type": "code",
   "execution_count": 14,
   "metadata": {
    "collapsed": true,
    "deletable": true,
    "editable": true
   },
   "outputs": [],
   "source": [
    "df = data_dask.compute()"
   ]
  },
  {
   "cell_type": "code",
   "execution_count": 15,
   "metadata": {
    "collapsed": false,
    "deletable": true,
    "editable": true
   },
   "outputs": [
    {
     "data": {
      "text/html": [
       "<div>\n",
       "<style scoped>\n",
       "    .dataframe tbody tr th:only-of-type {\n",
       "        vertical-align: middle;\n",
       "    }\n",
       "\n",
       "    .dataframe tbody tr th {\n",
       "        vertical-align: top;\n",
       "    }\n",
       "\n",
       "    .dataframe thead th {\n",
       "        text-align: right;\n",
       "    }\n",
       "</style>\n",
       "<table border=\"1\" class=\"dataframe\">\n",
       "  <thead>\n",
       "    <tr style=\"text-align: right;\">\n",
       "      <th></th>\n",
       "      <th>MI_dir_L5_weight</th>\n",
       "      <th>MI_dir_L5_mean</th>\n",
       "      <th>MI_dir_L5_variance</th>\n",
       "      <th>MI_dir_L3_weight</th>\n",
       "      <th>MI_dir_L3_mean</th>\n",
       "      <th>MI_dir_L3_variance</th>\n",
       "      <th>MI_dir_L1_weight</th>\n",
       "      <th>MI_dir_L1_mean</th>\n",
       "      <th>MI_dir_L1_variance</th>\n",
       "      <th>MI_dir_L0.1_weight</th>\n",
       "      <th>...</th>\n",
       "      <th>HpHp_L0.1_radius</th>\n",
       "      <th>HpHp_L0.1_covariance</th>\n",
       "      <th>HpHp_L0.1_pcc</th>\n",
       "      <th>HpHp_L0.01_weight</th>\n",
       "      <th>HpHp_L0.01_mean</th>\n",
       "      <th>HpHp_L0.01_std</th>\n",
       "      <th>HpHp_L0.01_magnitude</th>\n",
       "      <th>HpHp_L0.01_radius</th>\n",
       "      <th>HpHp_L0.01_covariance</th>\n",
       "      <th>HpHp_L0.01_pcc</th>\n",
       "    </tr>\n",
       "  </thead>\n",
       "  <tbody>\n",
       "    <tr>\n",
       "      <th>count</th>\n",
       "      <td>49548.000000</td>\n",
       "      <td>49548.000000</td>\n",
       "      <td>4.954800e+04</td>\n",
       "      <td>49548.000000</td>\n",
       "      <td>49548.000000</td>\n",
       "      <td>4.954800e+04</td>\n",
       "      <td>49548.000000</td>\n",
       "      <td>49548.000000</td>\n",
       "      <td>49548.000000</td>\n",
       "      <td>49548.000000</td>\n",
       "      <td>...</td>\n",
       "      <td>4.954800e+04</td>\n",
       "      <td>4.954800e+04</td>\n",
       "      <td>49548.000000</td>\n",
       "      <td>49548.000000</td>\n",
       "      <td>49548.000000</td>\n",
       "      <td>4.954800e+04</td>\n",
       "      <td>49548.000000</td>\n",
       "      <td>4.954800e+04</td>\n",
       "      <td>4.954800e+04</td>\n",
       "      <td>4.954800e+04</td>\n",
       "    </tr>\n",
       "    <tr>\n",
       "      <th>mean</th>\n",
       "      <td>2.256231</td>\n",
       "      <td>92.387127</td>\n",
       "      <td>1.989736e+01</td>\n",
       "      <td>2.288308</td>\n",
       "      <td>92.382667</td>\n",
       "      <td>2.549500e+01</td>\n",
       "      <td>2.422229</td>\n",
       "      <td>92.829655</td>\n",
       "      <td>67.670150</td>\n",
       "      <td>4.291791</td>\n",
       "      <td>...</td>\n",
       "      <td>8.968526e+00</td>\n",
       "      <td>1.806003e+00</td>\n",
       "      <td>0.000371</td>\n",
       "      <td>4.861666</td>\n",
       "      <td>92.338129</td>\n",
       "      <td>1.392164e-01</td>\n",
       "      <td>130.175018</td>\n",
       "      <td>9.643987e+00</td>\n",
       "      <td>2.138594e+00</td>\n",
       "      <td>1.775780e-03</td>\n",
       "    </tr>\n",
       "    <tr>\n",
       "      <th>std</th>\n",
       "      <td>1.453213</td>\n",
       "      <td>17.640932</td>\n",
       "      <td>3.591753e+02</td>\n",
       "      <td>1.469317</td>\n",
       "      <td>17.455677</td>\n",
       "      <td>3.770187e+02</td>\n",
       "      <td>1.505076</td>\n",
       "      <td>15.858976</td>\n",
       "      <td>436.114015</td>\n",
       "      <td>1.644405</td>\n",
       "      <td>...</td>\n",
       "      <td>2.919997e+02</td>\n",
       "      <td>7.661357e+01</td>\n",
       "      <td>0.013878</td>\n",
       "      <td>1.244585</td>\n",
       "      <td>17.928385</td>\n",
       "      <td>1.812241e+00</td>\n",
       "      <td>25.106333</td>\n",
       "      <td>2.914718e+02</td>\n",
       "      <td>8.120645e+01</td>\n",
       "      <td>2.521668e-02</td>\n",
       "    </tr>\n",
       "    <tr>\n",
       "      <th>min</th>\n",
       "      <td>1.000000</td>\n",
       "      <td>60.000000</td>\n",
       "      <td>0.000000e+00</td>\n",
       "      <td>1.000000</td>\n",
       "      <td>60.000000</td>\n",
       "      <td>0.000000e+00</td>\n",
       "      <td>1.000000</td>\n",
       "      <td>60.000000</td>\n",
       "      <td>0.000000</td>\n",
       "      <td>1.000000</td>\n",
       "      <td>...</td>\n",
       "      <td>0.000000e+00</td>\n",
       "      <td>-7.291934e+02</td>\n",
       "      <td>-0.142042</td>\n",
       "      <td>1.000000</td>\n",
       "      <td>60.000000</td>\n",
       "      <td>0.000000e+00</td>\n",
       "      <td>60.000000</td>\n",
       "      <td>0.000000e+00</td>\n",
       "      <td>-6.899823e+02</td>\n",
       "      <td>-1.353522e-01</td>\n",
       "    </tr>\n",
       "    <tr>\n",
       "      <th>25%</th>\n",
       "      <td>1.000000</td>\n",
       "      <td>97.999999</td>\n",
       "      <td>0.000000e+00</td>\n",
       "      <td>1.000029</td>\n",
       "      <td>97.976892</td>\n",
       "      <td>1.820000e-12</td>\n",
       "      <td>1.031097</td>\n",
       "      <td>93.553006</td>\n",
       "      <td>0.000808</td>\n",
       "      <td>2.878704</td>\n",
       "      <td>...</td>\n",
       "      <td>4.550000e-13</td>\n",
       "      <td>-1.780000e-35</td>\n",
       "      <td>0.000000</td>\n",
       "      <td>4.219096</td>\n",
       "      <td>98.000000</td>\n",
       "      <td>6.740000e-07</td>\n",
       "      <td>138.592929</td>\n",
       "      <td>1.820000e-12</td>\n",
       "      <td>-4.650000e-29</td>\n",
       "      <td>-7.242500e-18</td>\n",
       "    </tr>\n",
       "    <tr>\n",
       "      <th>50%</th>\n",
       "      <td>1.951958</td>\n",
       "      <td>101.999737</td>\n",
       "      <td>5.410000e-08</td>\n",
       "      <td>1.984559</td>\n",
       "      <td>101.985794</td>\n",
       "      <td>3.430290e-04</td>\n",
       "      <td>1.999986</td>\n",
       "      <td>101.337645</td>\n",
       "      <td>1.160150</td>\n",
       "      <td>4.241541</td>\n",
       "      <td>...</td>\n",
       "      <td>1.820000e-12</td>\n",
       "      <td>1.515000e-85</td>\n",
       "      <td>0.000000</td>\n",
       "      <td>4.220188</td>\n",
       "      <td>102.000000</td>\n",
       "      <td>1.350000e-06</td>\n",
       "      <td>144.249783</td>\n",
       "      <td>3.640000e-12</td>\n",
       "      <td>1.530000e-30</td>\n",
       "      <td>0.000000e+00</td>\n",
       "    </tr>\n",
       "    <tr>\n",
       "      <th>75%</th>\n",
       "      <td>3.121032</td>\n",
       "      <td>102.000000</td>\n",
       "      <td>2.594240e-04</td>\n",
       "      <td>3.398511</td>\n",
       "      <td>102.000000</td>\n",
       "      <td>1.687128e-01</td>\n",
       "      <td>3.969432</td>\n",
       "      <td>101.999583</td>\n",
       "      <td>42.268658</td>\n",
       "      <td>5.602002</td>\n",
       "      <td>...</td>\n",
       "      <td>3.640000e-12</td>\n",
       "      <td>3.950000e-34</td>\n",
       "      <td>0.000000</td>\n",
       "      <td>5.308375</td>\n",
       "      <td>102.000000</td>\n",
       "      <td>1.910000e-06</td>\n",
       "      <td>144.249783</td>\n",
       "      <td>5.140000e-12</td>\n",
       "      <td>7.530000e-29</td>\n",
       "      <td>2.000000e-17</td>\n",
       "    </tr>\n",
       "    <tr>\n",
       "      <th>max</th>\n",
       "      <td>8.837730</td>\n",
       "      <td>360.458980</td>\n",
       "      <td>2.123254e+04</td>\n",
       "      <td>10.876876</td>\n",
       "      <td>360.275733</td>\n",
       "      <td>2.138792e+04</td>\n",
       "      <td>14.488665</td>\n",
       "      <td>360.091968</td>\n",
       "      <td>20362.325690</td>\n",
       "      <td>20.148226</td>\n",
       "      <td>...</td>\n",
       "      <td>1.088123e+04</td>\n",
       "      <td>4.381892e+03</td>\n",
       "      <td>0.767997</td>\n",
       "      <td>11.283089</td>\n",
       "      <td>354.000000</td>\n",
       "      <td>5.890428e+01</td>\n",
       "      <td>688.052324</td>\n",
       "      <td>1.088186e+04</td>\n",
       "      <td>4.393551e+03</td>\n",
       "      <td>7.754023e-01</td>\n",
       "    </tr>\n",
       "  </tbody>\n",
       "</table>\n",
       "<p>8 rows × 115 columns</p>\n",
       "</div>"
      ],
      "text/plain": [
       "       MI_dir_L5_weight  MI_dir_L5_mean  MI_dir_L5_variance  MI_dir_L3_weight  \\\n",
       "count      49548.000000    49548.000000        4.954800e+04      49548.000000   \n",
       "mean           2.256231       92.387127        1.989736e+01          2.288308   \n",
       "std            1.453213       17.640932        3.591753e+02          1.469317   \n",
       "min            1.000000       60.000000        0.000000e+00          1.000000   \n",
       "25%            1.000000       97.999999        0.000000e+00          1.000029   \n",
       "50%            1.951958      101.999737        5.410000e-08          1.984559   \n",
       "75%            3.121032      102.000000        2.594240e-04          3.398511   \n",
       "max            8.837730      360.458980        2.123254e+04         10.876876   \n",
       "\n",
       "       MI_dir_L3_mean  MI_dir_L3_variance  MI_dir_L1_weight  MI_dir_L1_mean  \\\n",
       "count    49548.000000        4.954800e+04      49548.000000    49548.000000   \n",
       "mean        92.382667        2.549500e+01          2.422229       92.829655   \n",
       "std         17.455677        3.770187e+02          1.505076       15.858976   \n",
       "min         60.000000        0.000000e+00          1.000000       60.000000   \n",
       "25%         97.976892        1.820000e-12          1.031097       93.553006   \n",
       "50%        101.985794        3.430290e-04          1.999986      101.337645   \n",
       "75%        102.000000        1.687128e-01          3.969432      101.999583   \n",
       "max        360.275733        2.138792e+04         14.488665      360.091968   \n",
       "\n",
       "       MI_dir_L1_variance  MI_dir_L0.1_weight  ...  HpHp_L0.1_radius  \\\n",
       "count        49548.000000        49548.000000  ...      4.954800e+04   \n",
       "mean            67.670150            4.291791  ...      8.968526e+00   \n",
       "std            436.114015            1.644405  ...      2.919997e+02   \n",
       "min              0.000000            1.000000  ...      0.000000e+00   \n",
       "25%              0.000808            2.878704  ...      4.550000e-13   \n",
       "50%              1.160150            4.241541  ...      1.820000e-12   \n",
       "75%             42.268658            5.602002  ...      3.640000e-12   \n",
       "max          20362.325690           20.148226  ...      1.088123e+04   \n",
       "\n",
       "       HpHp_L0.1_covariance  HpHp_L0.1_pcc  HpHp_L0.01_weight  \\\n",
       "count          4.954800e+04   49548.000000       49548.000000   \n",
       "mean           1.806003e+00       0.000371           4.861666   \n",
       "std            7.661357e+01       0.013878           1.244585   \n",
       "min           -7.291934e+02      -0.142042           1.000000   \n",
       "25%           -1.780000e-35       0.000000           4.219096   \n",
       "50%            1.515000e-85       0.000000           4.220188   \n",
       "75%            3.950000e-34       0.000000           5.308375   \n",
       "max            4.381892e+03       0.767997          11.283089   \n",
       "\n",
       "       HpHp_L0.01_mean  HpHp_L0.01_std  HpHp_L0.01_magnitude  \\\n",
       "count     49548.000000    4.954800e+04          49548.000000   \n",
       "mean         92.338129    1.392164e-01            130.175018   \n",
       "std          17.928385    1.812241e+00             25.106333   \n",
       "min          60.000000    0.000000e+00             60.000000   \n",
       "25%          98.000000    6.740000e-07            138.592929   \n",
       "50%         102.000000    1.350000e-06            144.249783   \n",
       "75%         102.000000    1.910000e-06            144.249783   \n",
       "max         354.000000    5.890428e+01            688.052324   \n",
       "\n",
       "       HpHp_L0.01_radius  HpHp_L0.01_covariance  HpHp_L0.01_pcc  \n",
       "count       4.954800e+04           4.954800e+04    4.954800e+04  \n",
       "mean        9.643987e+00           2.138594e+00    1.775780e-03  \n",
       "std         2.914718e+02           8.120645e+01    2.521668e-02  \n",
       "min         0.000000e+00          -6.899823e+02   -1.353522e-01  \n",
       "25%         1.820000e-12          -4.650000e-29   -7.242500e-18  \n",
       "50%         3.640000e-12           1.530000e-30    0.000000e+00  \n",
       "75%         5.140000e-12           7.530000e-29    2.000000e-17  \n",
       "max         1.088186e+04           4.393551e+03    7.754023e-01  \n",
       "\n",
       "[8 rows x 115 columns]"
      ]
     },
     "execution_count": 15,
     "metadata": {},
     "output_type": "execute_result"
    }
   ],
   "source": [
    "df. describe()"
   ]
  },
  {
   "cell_type": "code",
   "execution_count": null,
   "metadata": {
    "collapsed": true,
    "deletable": true,
    "editable": true
   },
   "outputs": [],
   "source": [
    "data_dask.dtypes\n",
    "data_dask.shape\n",
    "data_dask.describe()\n",
    "data_dask.describe().compute()\n",
    "# data_dask.mean()\n",
    "data_dask.columns\n",
    "data_dask.MI_dir_L5_weight\n",
    "data_dask.MI_dir_L5_weight.compute()\n",
    "data_dask['MI_dir_L5_weight']\n",
    "data_dask['MI_dir_L5_weight'].compute()\n",
    "data_dask[['MI_dir_L5_weight', 'MI_dir_L5_mean']]\n",
    "data_dask[['MI_dir_L5_weight', 'MI_dir_L5_mean']].compute()"
   ]
  },
  {
   "cell_type": "code",
   "execution_count": null,
   "metadata": {
    "collapsed": true,
    "deletable": true,
    "editable": true
   },
   "outputs": [],
   "source": [
    "# Convert dask dataframe to pandas\n",
    "\n",
    "df = data_dask.compute()\n",
    "df.shape"
   ]
  },
  {
   "cell_type": "code",
   "execution_count": null,
   "metadata": {
    "collapsed": true,
    "deletable": true,
    "editable": true
   },
   "outputs": [],
   "source": [
    "df.describe()\n",
    "df.dtypes"
   ]
  }
 ],
 "metadata": {
  "kernelspec": {
   "display_name": "Python 3",
   "language": "python",
   "name": "python3"
  },
  "language_info": {
   "codemirror_mode": {
    "name": "ipython",
    "version": 3
   },
   "file_extension": ".py",
   "mimetype": "text/x-python",
   "name": "python",
   "nbconvert_exporter": "python",
   "pygments_lexer": "ipython3",
   "version": "3.5.2"
  }
 },
 "nbformat": 4,
 "nbformat_minor": 2
}
