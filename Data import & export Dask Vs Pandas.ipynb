{
 "cells": [
  {
   "cell_type": "markdown",
   "metadata": {
    "deletable": true,
    "editable": true
   },
   "source": [
    "## Importing data using dask.dataframe is faster than pandas\n",
    "\n",
    "Open() method\n",
    "Using pandas\n",
    "\n",
    "using dask [faster than pandas for larger data sets]"
   ]
  },
  {
   "cell_type": "code",
   "execution_count": 3,
   "metadata": {
    "collapsed": false,
    "deletable": true,
    "editable": true
   },
   "outputs": [
    {
     "data": {
      "text/plain": [
       "'D:\\\\Learning\\\\Learn Python git hub'"
      ]
     },
     "execution_count": 3,
     "metadata": {},
     "output_type": "execute_result"
    }
   ],
   "source": [
    "# Setting working directory\n",
    "import os\n",
    "os.getcwd()\n",
    "os.chdir('D:\\Learning\\Learn Python git hub')\n",
    "os.getcwd()\n"
   ]
  },
  {
   "cell_type": "code",
   "execution_count": 3,
   "metadata": {
    "collapsed": false,
    "deletable": true,
    "editable": true
   },
   "outputs": [
    {
     "data": {
      "text/plain": [
       "(49548, 115)"
      ]
     },
     "execution_count": 3,
     "metadata": {},
     "output_type": "execute_result"
    }
   ],
   "source": [
    "import pandas as pd\n",
    "data_pandas = pd.read_csv(\"benign_traffic.csv\")\n",
    "data_pandas.shape"
   ]
  },
  {
   "cell_type": "code",
   "execution_count": 5,
   "metadata": {
    "collapsed": false,
    "deletable": true,
    "editable": true
   },
   "outputs": [
    {
     "name": "stderr",
     "output_type": "stream",
     "text": [
      "D:\\Anaconda3\\lib\\site-packages\\dask\\dataframe\\utils.py:15: FutureWarning: pandas.util.testing is deprecated. Use the functions in the public API at pandas.testing instead.\n",
      "  import pandas.util.testing as tm\n"
     ]
    },
    {
     "name": "stdout",
     "output_type": "stream",
     "text": [
      "Data Size is:  (49548, 115)\n",
      "Time taken by pandas to read the file :  680.85\n"
     ]
    }
   ],
   "source": [
    "# Using dask for a data set with 49548 rows\n",
    "\n",
    "import pandas as pd\n",
    "import dask.dataframe as dd\n",
    "import time\n",
    "\n",
    "# Reading with pandas\n",
    "t0 = time.time()\n",
    "\n",
    "data_pandas = pd.read_csv(\"benign_traffic.csv\")\n",
    "t1 = time.time()\n",
    "\n",
    "time_pandas = round((t1-t0)*1000, 2)\n",
    "\n",
    "print('Data Size is: ', data_pandas.shape)\n",
    "print('Time taken by pandas to read the file : ', time_pandas)"
   ]
  },
  {
   "cell_type": "code",
   "execution_count": 6,
   "metadata": {
    "collapsed": false,
    "deletable": true,
    "editable": true
   },
   "outputs": [
    {
     "name": "stdout",
     "output_type": "stream",
     "text": [
      "Time taken by dask to read the file :  70.45\n"
     ]
    }
   ],
   "source": [
    "# Reading with Dask\n",
    "t2 = time.time()\n",
    "\n",
    "data_dask = dd.read_csv(\"benign_traffic.csv\")\n",
    "t3 = time.time()\n",
    "\n",
    "time_dask = round((t3-t2)*1000, 2)\n",
    "\n",
    "print('Time taken by dask to read the file : ', time_dask)\n"
   ]
  },
  {
   "cell_type": "code",
   "execution_count": 18,
   "metadata": {
    "collapsed": false,
    "deletable": true,
    "editable": true
   },
   "outputs": [
    {
     "data": {
      "text/plain": [
       "[1850.85, 74.84]"
      ]
     },
     "execution_count": 18,
     "metadata": {},
     "output_type": "execute_result"
    }
   ],
   "source": [
    "data=[]\n",
    "data.append(time_pandas)\n",
    "data.append(time_dask)\n",
    "categories=[\"Pandas\", \"Dask\"]\n",
    "data"
   ]
  },
  {
   "cell_type": "code",
   "execution_count": 19,
   "metadata": {
    "collapsed": false,
    "deletable": true,
    "editable": true
   },
   "outputs": [
    {
     "data": {
      "text/plain": [
       "{'Pandas': 1850.85, 'Dask': 74.84}"
      ]
     },
     "execution_count": 19,
     "metadata": {},
     "output_type": "execute_result"
    }
   ],
   "source": [
    "data1 = {\"Pandas\": time_pandas, \"Dask\": time_dask}\n",
    "data1"
   ]
  },
  {
   "cell_type": "code",
   "execution_count": 21,
   "metadata": {
    "collapsed": false,
    "deletable": true,
    "editable": true
   },
   "outputs": [
    {
     "data": {
      "image/png": "[encoded data removed]",
      "text/plain": [
       "<Figure size 432x288 with 1 Axes>"
      ]
     },
     "metadata": {
      "needs_background": "light"
     },
     "output_type": "display_data"
    }
   ],
   "source": [
    "import matplotlib.pyplot as plt\n",
    "\n",
    "plt.bar(range(len(data1)), list(data1.values()), align='center')\n",
    "plt.xticks(range(len(data1)), list(data1.keys()))\n",
    "\n",
    "# # for python 2.x:\n",
    "# plt.bar(range(len(data1)), data1.values(), align='center')  # python 2.x\n",
    "# plt.xticks(range(len(data1)), data1.keys())  # in python 2.x\n",
    "\n",
    "plt.show()"
   ]
  },
  {
   "cell_type": "code",
   "execution_count": 30,
   "metadata": {
    "collapsed": false,
    "deletable": true,
    "editable": true
   },
   "outputs": [
    {
     "data": {
      "text/plain": [
       "MI_dir_L5_weight         float64\n",
       "MI_dir_L5_mean           float64\n",
       "MI_dir_L5_variance       float64\n",
       "MI_dir_L3_weight         float64\n",
       "MI_dir_L3_mean           float64\n",
       "                          ...   \n",
       "HpHp_L0.01_std           float64\n",
       "HpHp_L0.01_magnitude     float64\n",
       "HpHp_L0.01_radius        float64\n",
       "HpHp_L0.01_covariance    float64\n",
       "HpHp_L0.01_pcc           float64\n",
       "Length: 115, dtype: object"
      ]
     },
     "execution_count": 30,
     "metadata": {},
     "output_type": "execute_result"
    }
   ],
   "source": [
    "data_dask.dtypes\n",
    "data_dask.shape\n",
    "data_dask.describe()\n",
    "# data_dask.mean()\n",
    "# data_dask.columns\n",
    "# data_dask.MI_dir_L5_weight\n",
    "# data_dask['MI_dir_L5_weight']\n",
    "# data_dask[['MI_dir_L5_weight', 'MI_dir_L5_mean']]"
   ]
  },
  {
   "cell_type": "code",
   "execution_count": 23,
   "metadata": {
    "collapsed": false,
    "deletable": true,
    "editable": true
   },
   "outputs": [
    {
     "data": {
      "text/plain": [
       "(49548, 115)"
      ]
     },
     "execution_count": 23,
     "metadata": {},
     "output_type": "execute_result"
    }
   ],
   "source": [
    "# Convert dask dataframe to pandas\n",
    "\n",
    "df = data_dask.compute()\n",
    "df.shape"
   ]
  },
  {
   "cell_type": "code",
   "execution_count": 27,
   "metadata": {
    "collapsed": false,
    "deletable": true,
    "editable": true
   },
   "outputs": [
    {
     "data": {
      "text/plain": [
       "MI_dir_L5_weight         float64\n",
       "MI_dir_L5_mean           float64\n",
       "MI_dir_L5_variance       float64\n",
       "MI_dir_L3_weight         float64\n",
       "MI_dir_L3_mean           float64\n",
       "                          ...   \n",
       "HpHp_L0.01_std           float64\n",
       "HpHp_L0.01_magnitude     float64\n",
       "HpHp_L0.01_radius        float64\n",
       "HpHp_L0.01_covariance    float64\n",
       "HpHp_L0.01_pcc           float64\n",
       "Length: 115, dtype: object"
      ]
     },
     "execution_count": 27,
     "metadata": {},
     "output_type": "execute_result"
    }
   ],
   "source": [
    "df.describe()\n",
    "df.dtypes"
   ]
  },
  {
   "cell_type": "markdown",
   "metadata": {
    "deletable": true,
    "editable": true
   },
   "source": [
    "## In build data sets\n",
    "\n",
    "R, by default comes with a set of in-built datasets. There are some datasets which come with the SkiKit- Learn package\n",
    "\n"
   ]
  },
  {
   "cell_type": "code",
   "execution_count": 3,
   "metadata": {
    "collapsed": false,
    "deletable": true,
    "editable": true
   },
   "outputs": [
    {
     "data": {
      "text/plain": [
       "(150, 4)"
      ]
     },
     "execution_count": 3,
     "metadata": {},
     "output_type": "execute_result"
    }
   ],
   "source": [
    "#Python\n",
    "import sklearn as sklearn\n",
    "import pandas as pd\n",
    "from sklearn import datasets\n",
    "# This creates a Sklearn bunch\n",
    "data = datasets.load_iris()\n",
    "# Convert to Pandas dataframe\n",
    "iris = pd.DataFrame(data.data, columns=data.feature_names)\n",
    "print(iris.head())\n",
    "iris.shape"
   ]
  },
  {
   "cell_type": "code",
   "execution_count": 5,
   "metadata": {
    "collapsed": false,
    "deletable": true,
    "editable": true
   },
   "outputs": [
    {
     "name": "stdout",
     "output_type": "stream",
     "text": [
      "sepal length (cm)    4.6\n",
      "sepal width (cm)     3.1\n",
      "petal length (cm)    1.5\n",
      "petal width (cm)     0.2\n",
      "Name: 3, dtype: float64\n",
      "   sepal length (cm)  sepal width (cm)  petal length (cm)  petal width (cm)\n",
      "0                5.1               3.5                1.4               0.2\n",
      "1                4.9               3.0                1.4               0.2\n",
      "2                4.7               3.2                1.3               0.2\n",
      "3                4.6               3.1                1.5               0.2\n",
      "4                5.0               3.6                1.4               0.2 \n",
      "\n",
      "2    4.7\n",
      "3    4.6\n",
      "4    5.0\n",
      "5    5.4\n",
      "Name: sepal length (cm), dtype: float64 \n",
      "\n",
      "   sepal length (cm)  sepal width (cm)\n",
      "4                5.0               3.6\n",
      "5                5.4               3.9\n",
      "6                4.6               3.4\n"
     ]
    }
   ],
   "source": [
    "print(iris.iloc[3])\n",
    "print(iris[:5], '\\n')\n",
    "# In python we can select columns by column name as follows\n",
    "print(iris['sepal length (cm)'][2:6], '\\n')\n",
    "#If you want to select more than 1 columns then you must use the double '[[]]' since the \n",
    "# index is a list itself\n",
    "print(iris[['sepal length (cm)','sepal width (cm)']][4:7])"
   ]
  },
  {
   "cell_type": "code",
   "execution_count": 10,
   "metadata": {
    "collapsed": false,
    "deletable": true,
    "editable": true
   },
   "outputs": [
    {
     "data": {
      "text/html": [
       "<div>\n",
       "<style scoped>\n",
       "    .dataframe tbody tr th:only-of-type {\n",
       "        vertical-align: middle;\n",
       "    }\n",
       "\n",
       "    .dataframe tbody tr th {\n",
       "        vertical-align: top;\n",
       "    }\n",
       "\n",
       "    .dataframe thead th {\n",
       "        text-align: right;\n",
       "    }\n",
       "</style>\n",
       "<table border=\"1\" class=\"dataframe\">\n",
       "  <thead>\n",
       "    <tr style=\"text-align: right;\">\n",
       "      <th></th>\n",
       "      <th>sepal length (cm)</th>\n",
       "    </tr>\n",
       "  </thead>\n",
       "  <tbody>\n",
       "    <tr>\n",
       "      <th>0</th>\n",
       "      <td>5.1</td>\n",
       "    </tr>\n",
       "    <tr>\n",
       "      <th>1</th>\n",
       "      <td>4.9</td>\n",
       "    </tr>\n",
       "    <tr>\n",
       "      <th>2</th>\n",
       "      <td>4.7</td>\n",
       "    </tr>\n",
       "    <tr>\n",
       "      <th>3</th>\n",
       "      <td>4.6</td>\n",
       "    </tr>\n",
       "    <tr>\n",
       "      <th>4</th>\n",
       "      <td>5.0</td>\n",
       "    </tr>\n",
       "    <tr>\n",
       "      <th>5</th>\n",
       "      <td>5.4</td>\n",
       "    </tr>\n",
       "    <tr>\n",
       "      <th>6</th>\n",
       "      <td>4.6</td>\n",
       "    </tr>\n",
       "    <tr>\n",
       "      <th>7</th>\n",
       "      <td>5.0</td>\n",
       "    </tr>\n",
       "    <tr>\n",
       "      <th>8</th>\n",
       "      <td>4.4</td>\n",
       "    </tr>\n",
       "    <tr>\n",
       "      <th>9</th>\n",
       "      <td>4.9</td>\n",
       "    </tr>\n",
       "    <tr>\n",
       "      <th>10</th>\n",
       "      <td>5.4</td>\n",
       "    </tr>\n",
       "    <tr>\n",
       "      <th>11</th>\n",
       "      <td>4.8</td>\n",
       "    </tr>\n",
       "    <tr>\n",
       "      <th>12</th>\n",
       "      <td>4.8</td>\n",
       "    </tr>\n",
       "    <tr>\n",
       "      <th>13</th>\n",
       "      <td>4.3</td>\n",
       "    </tr>\n",
       "    <tr>\n",
       "      <th>14</th>\n",
       "      <td>5.8</td>\n",
       "    </tr>\n",
       "    <tr>\n",
       "      <th>15</th>\n",
       "      <td>5.7</td>\n",
       "    </tr>\n",
       "    <tr>\n",
       "      <th>16</th>\n",
       "      <td>5.4</td>\n",
       "    </tr>\n",
       "    <tr>\n",
       "      <th>17</th>\n",
       "      <td>5.1</td>\n",
       "    </tr>\n",
       "    <tr>\n",
       "      <th>18</th>\n",
       "      <td>5.7</td>\n",
       "    </tr>\n",
       "    <tr>\n",
       "      <th>19</th>\n",
       "      <td>5.1</td>\n",
       "    </tr>\n",
       "    <tr>\n",
       "      <th>20</th>\n",
       "      <td>5.4</td>\n",
       "    </tr>\n",
       "    <tr>\n",
       "      <th>21</th>\n",
       "      <td>5.1</td>\n",
       "    </tr>\n",
       "    <tr>\n",
       "      <th>22</th>\n",
       "      <td>4.6</td>\n",
       "    </tr>\n",
       "    <tr>\n",
       "      <th>23</th>\n",
       "      <td>5.1</td>\n",
       "    </tr>\n",
       "    <tr>\n",
       "      <th>24</th>\n",
       "      <td>4.8</td>\n",
       "    </tr>\n",
       "    <tr>\n",
       "      <th>25</th>\n",
       "      <td>5.0</td>\n",
       "    </tr>\n",
       "    <tr>\n",
       "      <th>26</th>\n",
       "      <td>5.0</td>\n",
       "    </tr>\n",
       "    <tr>\n",
       "      <th>27</th>\n",
       "      <td>5.2</td>\n",
       "    </tr>\n",
       "    <tr>\n",
       "      <th>28</th>\n",
       "      <td>5.2</td>\n",
       "    </tr>\n",
       "    <tr>\n",
       "      <th>29</th>\n",
       "      <td>4.7</td>\n",
       "    </tr>\n",
       "    <tr>\n",
       "      <th>...</th>\n",
       "      <td>...</td>\n",
       "    </tr>\n",
       "    <tr>\n",
       "      <th>120</th>\n",
       "      <td>6.9</td>\n",
       "    </tr>\n",
       "    <tr>\n",
       "      <th>121</th>\n",
       "      <td>5.6</td>\n",
       "    </tr>\n",
       "    <tr>\n",
       "      <th>122</th>\n",
       "      <td>7.7</td>\n",
       "    </tr>\n",
       "    <tr>\n",
       "      <th>123</th>\n",
       "      <td>6.3</td>\n",
       "    </tr>\n",
       "    <tr>\n",
       "      <th>124</th>\n",
       "      <td>6.7</td>\n",
       "    </tr>\n",
       "    <tr>\n",
       "      <th>125</th>\n",
       "      <td>7.2</td>\n",
       "    </tr>\n",
       "    <tr>\n",
       "      <th>126</th>\n",
       "      <td>6.2</td>\n",
       "    </tr>\n",
       "    <tr>\n",
       "      <th>127</th>\n",
       "      <td>6.1</td>\n",
       "    </tr>\n",
       "    <tr>\n",
       "      <th>128</th>\n",
       "      <td>6.4</td>\n",
       "    </tr>\n",
       "    <tr>\n",
       "      <th>129</th>\n",
       "      <td>7.2</td>\n",
       "    </tr>\n",
       "    <tr>\n",
       "      <th>130</th>\n",
       "      <td>7.4</td>\n",
       "    </tr>\n",
       "    <tr>\n",
       "      <th>131</th>\n",
       "      <td>7.9</td>\n",
       "    </tr>\n",
       "    <tr>\n",
       "      <th>132</th>\n",
       "      <td>6.4</td>\n",
       "    </tr>\n",
       "    <tr>\n",
       "      <th>133</th>\n",
       "      <td>6.3</td>\n",
       "    </tr>\n",
       "    <tr>\n",
       "      <th>134</th>\n",
       "      <td>6.1</td>\n",
       "    </tr>\n",
       "    <tr>\n",
       "      <th>135</th>\n",
       "      <td>7.7</td>\n",
       "    </tr>\n",
       "    <tr>\n",
       "      <th>136</th>\n",
       "      <td>6.3</td>\n",
       "    </tr>\n",
       "    <tr>\n",
       "      <th>137</th>\n",
       "      <td>6.4</td>\n",
       "    </tr>\n",
       "    <tr>\n",
       "      <th>138</th>\n",
       "      <td>6.0</td>\n",
       "    </tr>\n",
       "    <tr>\n",
       "      <th>139</th>\n",
       "      <td>6.9</td>\n",
       "    </tr>\n",
       "    <tr>\n",
       "      <th>140</th>\n",
       "      <td>6.7</td>\n",
       "    </tr>\n",
       "    <tr>\n",
       "      <th>141</th>\n",
       "      <td>6.9</td>\n",
       "    </tr>\n",
       "    <tr>\n",
       "      <th>142</th>\n",
       "      <td>5.8</td>\n",
       "    </tr>\n",
       "    <tr>\n",
       "      <th>143</th>\n",
       "      <td>6.8</td>\n",
       "    </tr>\n",
       "    <tr>\n",
       "      <th>144</th>\n",
       "      <td>6.7</td>\n",
       "    </tr>\n",
       "    <tr>\n",
       "      <th>145</th>\n",
       "      <td>6.7</td>\n",
       "    </tr>\n",
       "    <tr>\n",
       "      <th>146</th>\n",
       "      <td>6.3</td>\n",
       "    </tr>\n",
       "    <tr>\n",
       "      <th>147</th>\n",
       "      <td>6.5</td>\n",
       "    </tr>\n",
       "    <tr>\n",
       "      <th>148</th>\n",
       "      <td>6.2</td>\n",
       "    </tr>\n",
       "    <tr>\n",
       "      <th>149</th>\n",
       "      <td>5.9</td>\n",
       "    </tr>\n",
       "  </tbody>\n",
       "</table>\n",
       "<p>150 rows × 1 columns</p>\n",
       "</div>"
      ],
      "text/plain": [
       "     sepal length (cm)\n",
       "0                  5.1\n",
       "1                  4.9\n",
       "2                  4.7\n",
       "3                  4.6\n",
       "4                  5.0\n",
       "5                  5.4\n",
       "6                  4.6\n",
       "7                  5.0\n",
       "8                  4.4\n",
       "9                  4.9\n",
       "10                 5.4\n",
       "11                 4.8\n",
       "12                 4.8\n",
       "13                 4.3\n",
       "14                 5.8\n",
       "15                 5.7\n",
       "16                 5.4\n",
       "17                 5.1\n",
       "18                 5.7\n",
       "19                 5.1\n",
       "20                 5.4\n",
       "21                 5.1\n",
       "22                 4.6\n",
       "23                 5.1\n",
       "24                 4.8\n",
       "25                 5.0\n",
       "26                 5.0\n",
       "27                 5.2\n",
       "28                 5.2\n",
       "29                 4.7\n",
       "..                 ...\n",
       "120                6.9\n",
       "121                5.6\n",
       "122                7.7\n",
       "123                6.3\n",
       "124                6.7\n",
       "125                7.2\n",
       "126                6.2\n",
       "127                6.1\n",
       "128                6.4\n",
       "129                7.2\n",
       "130                7.4\n",
       "131                7.9\n",
       "132                6.4\n",
       "133                6.3\n",
       "134                6.1\n",
       "135                7.7\n",
       "136                6.3\n",
       "137                6.4\n",
       "138                6.0\n",
       "139                6.9\n",
       "140                6.7\n",
       "141                6.9\n",
       "142                5.8\n",
       "143                6.8\n",
       "144                6.7\n",
       "145                6.7\n",
       "146                6.3\n",
       "147                6.5\n",
       "148                6.2\n",
       "149                5.9\n",
       "\n",
       "[150 rows x 1 columns]"
      ]
     },
     "execution_count": 10,
     "metadata": {},
     "output_type": "execute_result"
    }
   ],
   "source": [
    "# to select on column\n",
    "iris['sepal length (cm)']\n",
    "\n",
    "iris[['sepal length (cm)']]\n",
    "\n",
    "# both single and double bracket works\n",
    "\n",
    "# to select 2 columns\n",
    "# iris['sepal length (cm)', 'sepal width (cm)'] throws an error\n",
    "\n",
    "# iris[['sepal length (cm)', 'sepal width (cm)']] \n",
    "\n",
    "\n",
    "# For pandas objects (Series, DataFrame), the indexing operator [] only accepts\n",
    "# For df[[colname(s)]], the interior brackets are for list, and the outside brackets are indexing operator, \n",
    "# i.e. you must use double brackets if you select two or more columns. \n",
    "# With one column name, single pair of brackets returns a Series, while double brackets return a dataframe.\n",
    "# refer: https://stackoverflow.com/questions/33417991/pandas-why-are-double-brackets-needed-to-select-column-after-boolean-indexing\n",
    "\n",
    "# modern appraoch is \n",
    "# df.ix[df['A'] < 3,['A','C']] or df.loc[df['A'] < 3,['A','C']] "
   ]
  }
 ],
 "metadata": {
  "kernelspec": {
   "display_name": "Python 3",
   "language": "python",
   "name": "python3"
  },
  "language_info": {
   "codemirror_mode": {
    "name": "ipython",
    "version": 3
   },
   "file_extension": ".py",
   "mimetype": "text/x-python",
   "name": "python",
   "nbconvert_exporter": "python",
   "pygments_lexer": "ipython3",
   "version": "3.5.2"
  }
 },
 "nbformat": 4,
 "nbformat_minor": 2
}
