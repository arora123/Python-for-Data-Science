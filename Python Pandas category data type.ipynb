{
 "cells": [
  {
   "cell_type": "markdown",
   "metadata": {
    "colab_type": "text",
    "deletable": true,
    "editable": true,
    "id": "view-in-github"
   },
   "source": [
    "<a href=\"https://colab.research.google.com/github/arora123/Learn-Python/blob/master/categorical_variables_in_python.ipynb\" target=\"_parent\"><img src=\"https://colab.research.google.com/assets/colab-badge.svg\" alt=\"Open In Colab\"/></a>"
   ]
  },
  {
   "cell_type": "markdown",
   "metadata": {
    "colab_type": "text",
    "deletable": true,
    "editable": true,
    "id": "QCPIzsSECNG7"
   },
   "source": [
    "References:\n",
    "1. Python for Data Science for Dummies book/books data science"
   ]
  },
  {
   "cell_type": "markdown",
   "metadata": {
    "colab_type": "text",
    "deletable": true,
    "editable": true,
    "id": "jqLPnX1FAWvZ"
   },
   "source": [
    "## Creating categorical variable"
   ]
  },
  {
   "cell_type": "code",
   "execution_count": null,
   "metadata": {
    "colab": {
     "base_uri": "https://localhost:8080/",
     "height": 101
    },
    "colab_type": "code",
    "collapsed": false,
    "deletable": true,
    "editable": true,
    "id": "tdD6RWkS7F1n",
    "outputId": "d690e411-f4ad-4b52-bbec-700f12f8c493"
   },
   "outputs": [
    {
     "data": {
      "text/plain": [
       "0     Blue\n",
       "1      Red\n",
       "2    Green\n",
       "dtype: category\n",
       "Categories (3, object): [Blue, Green, Red]"
      ]
     },
     "execution_count": 11,
     "metadata": {
      "tags": []
     },
     "output_type": "execute_result"
    }
   ],
   "source": [
    "# To create  a categorical variable [in the form of pandas series] 'car_color'\n",
    "import pandas as pd\n",
    "car_colors = pd.Series(['Blue', 'Red', 'Green'], dtype='category')\n",
    "car_colors # Object data type (string)\n",
    "\n",
    "# Note: we must specify a dtype property value of category\n",
    "# car_colors = pd.Series(['Blue', 'Red', 'Green'])\n",
    "# car_colors # Object data type (string)"
   ]
  },
  {
   "cell_type": "code",
   "execution_count": null,
   "metadata": {
    "colab": {
     "base_uri": "https://localhost:8080/",
     "height": 101
    },
    "colab_type": "code",
    "collapsed": false,
    "deletable": true,
    "editable": true,
    "id": "dTnBKCQO87p4",
    "outputId": "e5701571-8fcd-49cd-db0e-de4879de6026"
   },
   "outputs": [
    {
     "data": {
      "text/plain": [
       "0    black\n",
       "1    white\n",
       "2     grey\n",
       "dtype: category\n",
       "Categories (3, object): [black, grey, white]"
      ]
     },
     "execution_count": 14,
     "metadata": {
      "tags": []
     },
     "output_type": "execute_result"
    }
   ],
   "source": [
    "# Otherwise we can directly create a categorical variable [pandas series] using pd.categorical\n",
    "pd.Series(pd.Categorical([\"black\", \"white\", \"grey\"]))"
   ]
  },
  {
   "cell_type": "code",
   "execution_count": null,
   "metadata": {
    "colab": {
     "base_uri": "https://localhost:8080/",
     "height": 134
    },
    "colab_type": "code",
    "collapsed": false,
    "deletable": true,
    "editable": true,
    "id": "WEsAIjN87NlP",
    "outputId": "b88ee643-ecbe-4fcf-bf0c-1d570259838e"
   },
   "outputs": [
    {
     "data": {
      "text/plain": [
       "0      NaN\n",
       "1    Green\n",
       "2      Red\n",
       "3     Blue\n",
       "4      NaN\n",
       "dtype: category\n",
       "Categories (3, object): [Blue, Green, Red]"
      ]
     },
     "execution_count": 2,
     "metadata": {
      "tags": []
     },
     "output_type": "execute_result"
    }
   ],
   "source": [
    "# creating another series 'car_data'\n",
    "car_data = pd.Series(\n",
    "pd.Categorical(['Yellow', 'Green', 'Red', 'Blue', 'Purple'],\n",
    "categories=car_colors, ordered=False))\n",
    "car_data\n",
    "# Not all the car colors in car_data variable match the predefined acceptable values from car_colors variable. \n",
    "# When this problem occurs, pandas outputs Not a Number (NaN) instead of the car color"
   ]
  },
  {
   "cell_type": "code",
   "execution_count": null,
   "metadata": {
    "colab": {
     "base_uri": "https://localhost:8080/",
     "height": 168
    },
    "colab_type": "code",
    "collapsed": false,
    "deletable": true,
    "editable": true,
    "id": "t82-kweP7Q-7",
    "outputId": "0812285e-2abf-4175-a7b3-739c85c152d5"
   },
   "outputs": [
    {
     "name": "stdout",
     "output_type": "stream",
     "text": [
      "0     True\n",
      "1    False\n",
      "2    False\n",
      "3    False\n",
      "4     True\n",
      "dtype: bool\n"
     ]
    },
    {
     "data": {
      "text/plain": [
       "0    True\n",
       "4    True\n",
       "dtype: bool"
      ]
     },
     "execution_count": 15,
     "metadata": {
      "tags": []
     },
     "output_type": "execute_result"
    }
   ],
   "source": [
    "# CHecking for the null values\n",
    "find_entries = pd.isnull(car_data)\n",
    "print(find_entries)\n",
    "find_entries[find_entries == True]"
   ]
  },
  {
   "cell_type": "markdown",
   "metadata": {
    "colab_type": "text",
    "deletable": true,
    "editable": true,
    "id": "UyvwycxrANK2"
   },
   "source": [
    "## Renaming categories"
   ]
  },
  {
   "cell_type": "code",
   "execution_count": null,
   "metadata": {
    "colab": {
     "base_uri": "https://localhost:8080/",
     "height": 218
    },
    "colab_type": "code",
    "collapsed": false,
    "deletable": true,
    "editable": true,
    "id": "cLZfxnBW7ux4",
    "outputId": "0efea9fe-12d4-449a-b024-11bf0f950e4e"
   },
   "outputs": [
    {
     "name": "stdout",
     "output_type": "stream",
     "text": [
      "0    Purple\n",
      "1     Black\n",
      "2    Yellow\n",
      "dtype: category\n",
      "Categories (3, object): [Purple, Yellow, Black]\n",
      "0    Purple\n",
      "1    Yellow\n",
      "2     Black\n",
      "3    Purple\n",
      "4     Black\n",
      "dtype: category\n",
      "Categories (3, object): [Purple, Yellow, Black]\n"
     ]
    }
   ],
   "source": [
    "car_colors = pd.Series(['Blue', 'Red', 'Green'],\n",
    "dtype='category')\n",
    "car_data = pd.Series(\n",
    "pd.Categorical(\n",
    "['Blue', 'Green', 'Red', 'Blue', 'Red'],\n",
    "categories=car_colors, ordered=False))\n",
    "car_colors.cat.categories = [\"Purple\", \"Yellow\", \"Black\"]\n",
    "car_data.cat.categories = car_colors\n",
    "print(car_colors)\n",
    "print(car_data)"
   ]
  },
  {
   "cell_type": "markdown",
   "metadata": {
    "colab_type": "text",
    "deletable": true,
    "editable": true,
    "id": "JD5-i_1KAn6x"
   },
   "source": [
    "## Combining levels\n",
    "Sometimes we need to combine categories with small frequencies."
   ]
  },
  {
   "cell_type": "code",
   "execution_count": null,
   "metadata": {
    "colab": {
     "base_uri": "https://localhost:8080/",
     "height": 235
    },
    "colab_type": "code",
    "collapsed": false,
    "deletable": true,
    "editable": true,
    "id": "FevVeS8iAUgT",
    "outputId": "d03bdb9e-c111-4c60-c3fe-a2efe2c3d323"
   },
   "outputs": [
    {
     "name": "stdout",
     "output_type": "stream",
     "text": [
      "0     Blue\n",
      "1      Red\n",
      "2    Green\n",
      "dtype: category\n",
      "Categories (3, object): [Blue, Green, Red]\n",
      "0    Blue_Red\n",
      "1         Red\n",
      "2       Green\n",
      "3         Red\n",
      "4       Green\n",
      "5         Red\n",
      "dtype: category\n",
      "Categories (3, object): [Blue_Red, Red, Green]\n"
     ]
    }
   ],
   "source": [
    "car_colors = pd.Series(['Blue', 'Red', 'Green'],\n",
    "dtype='category')\n",
    "\n",
    "car_data = pd.Series(\n",
    "pd.Categorical(['Blue', 'Green', 'Red', 'Green', 'Red', 'Green'],\n",
    "categories=car_colors, ordered=False))\n",
    "\n",
    "car_data.cat.categories = [\"Blue_Red\", \"Red\", \"Green\"]\n",
    "print(car_colors)\n",
    "print(car_data)\n"
   ]
  },
  {
   "cell_type": "code",
   "execution_count": null,
   "metadata": {
    "colab": {},
    "colab_type": "code",
    "collapsed": true,
    "deletable": true,
    "editable": true,
    "id": "iVdciG4bBX2H"
   },
   "outputs": [],
   "source": [
    "print(car_data.ix[car_data.isin(['Red'])])\n",
    "car_data.ix[car_data.isin(['Red'])] = 'Blue_Red'\n",
    "# page 181\n",
    "# this code was for python 2.7"
   ]
  },
  {
   "cell_type": "code",
   "execution_count": null,
   "metadata": {
    "colab": {},
    "colab_type": "code",
    "collapsed": true,
    "deletable": true,
    "editable": true,
    "id": "klnCB3hpCELI"
   },
   "outputs": [],
   "source": []
  }
 ],
 "metadata": {
  "colab": {
   "authorship_tag": "ABX9TyPPeCaAooAsys5SpEy7uLsU",
   "include_colab_link": true,
   "name": "categorical variables in python.ipynb",
   "provenance": []
  },
  "kernelspec": {
   "display_name": "Python 3",
   "language": "python",
   "name": "python3"
  },
  "language_info": {
   "codemirror_mode": {
    "name": "ipython",
    "version": 3
   },
   "file_extension": ".py",
   "mimetype": "text/x-python",
   "name": "python",
   "nbconvert_exporter": "python",
   "pygments_lexer": "ipython3",
   "version": "3.5.2"
  }
 },
 "nbformat": 4,
 "nbformat_minor": 0
}
